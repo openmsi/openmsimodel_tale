{
 "cells": [
  {
   "cell_type": "code",
   "execution_count": null,
   "metadata": {},
   "outputs": [],
   "source": [
    "from openmsimodel.graph.helpers import launch_graph_widget\n",
    "from openmsimodel.db.open_db import OpenDB"
   ]
  },
  {
   "cell_type": "code",
   "execution_count": null,
   "metadata": {},
   "outputs": [],
   "source": [
    "path = 'graphs/laser_shock/F039-R1C6 [64a55818-3955-4638-8de3-82ba1b7e3ff9, material_run].graphml'\n",
    "launch_graph_widget(path, engine='cytoscape')"
   ]
  },
  {
   "cell_type": "code",
   "execution_count": null,
   "metadata": {},
   "outputs": [],
   "source": [
    "db_name = \"GEMD\"\n",
    "private_path = \"gemd_db.json\"\n",
    "output = \"output/\"\n",
    "db = OpenDB(database_name=db_name, private_path=private_path, output=output)"
   ]
  },
  {
   "cell_type": "code",
   "execution_count": null,
   "metadata": {},
   "outputs": [],
   "source": [
    "print(db.listed_functions.keys())"
   ]
  },
  {
   "cell_type": "code",
   "execution_count": null,
   "metadata": {},
   "outputs": [],
   "source": [
    "db.gemd_db.execute_query(db.listed_functions['show_models'][0]())"
   ]
  },
  {
   "cell_type": "code",
   "execution_count": null,
   "metadata": {},
   "outputs": [],
   "source": [
    "table_id = \"3\" # 3 for lasershock; 11 for birdshot\n",
    "db.gemd_db.execute_query(\"select top 3 context from gemdobject c where c.model_id={}\".format(table_id))"
   ]
  }
 ],
 "metadata": {
  "kernelspec": {
   "display_name": "test_tale",
   "language": "python",
   "name": "python3"
  },
  "language_info": {
   "codemirror_mode": {
    "name": "ipython",
    "version": 3
   },
   "file_extension": ".py",
   "mimetype": "text/x-python",
   "name": "python",
   "nbconvert_exporter": "python",
   "pygments_lexer": "ipython3",
   "version": "3.9.18 (main, Sep 11 2023, 08:25:10) \n[Clang 14.0.6 ]"
  },
  "orig_nbformat": 4,
  "vscode": {
   "interpreter": {
    "hash": "deaaf159c91f82750e998ac49107b9e735c8fb60a89fa4d0675f02f4cca389b6"
   }
  }
 },
 "nbformat": 4,
 "nbformat_minor": 2
}
